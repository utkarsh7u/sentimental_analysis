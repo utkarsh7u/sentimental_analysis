{
  "nbformat": 4,
  "nbformat_minor": 0,
  "metadata": {
    "colab": {
      "provenance": []
    },
    "kernelspec": {
      "name": "python3",
      "display_name": "Python 3"
    },
    "language_info": {
      "name": "python"
    }
  },
  "cells": [
    {
      "cell_type": "code",
      "execution_count": null,
      "metadata": {
        "id": "HBlBtoeMN669"
      },
      "outputs": [],
      "source": [
        "import pandas as pd\n",
        "from sklearn.feature_extraction.text import TfidfVectorizer\n",
        "from sklearn.model_selection import train_test_split, cross_val_score\n",
        "from sklearn.metrics import accuracy_score, precision_score, recall_score\n",
        "from sklearn.naive_bayes import MultinomialNB\n",
        "from sklearn.linear_model import LogisticRegression\n",
        "from sklearn.ensemble import RandomForestClassifier\n",
        "from sklearn.preprocessing import LabelEncoder\n",
        "\n",
        "# Load the dataset\n",
        "data = pd.read_csv('/content/data_1.csv')\n",
        "text_column_index = 0  # Specify the index of the column containing loan scenario descriptions\n",
        "label_column_index = 1  # Specify the index of the column containing the sentiment labels\n",
        "\n",
        "# Split the dataset into features and labels\n",
        "X = data.iloc[:, text_column_index]\n",
        "y = data.iloc[:, label_column_index]\n",
        "\n",
        "# Encode the target labels\n",
        "label_encoder = LabelEncoder()\n",
        "y_encoded = label_encoder.fit_transform(y)\n",
        "num_classes = len(label_encoder.classes_)\n",
        "\n",
        "# Split the data into train and test sets\n",
        "X_train, X_test, y_train, y_test = train_test_split(X, y_encoded, test_size=0.2, random_state=42)\n",
        "\n",
        "# Vectorize the text data\n",
        "vectorizer = TfidfVectorizer()\n",
        "X_train_vec = vectorizer.fit_transform(X_train)\n",
        "X_test_vec = vectorizer.transform(X_test)\n",
        "\n",
        "# Train and evaluate Naive Bayes classifier\n",
        "nb_classifier = MultinomialNB()\n",
        "nb_classifier.fit(X_train_vec, y_train)\n",
        "nb_scores = cross_val_score(nb_classifier, X_train_vec, y_train, cv=5)\n",
        "nb_accuracy = nb_scores.mean()\n",
        "nb_predictions = nb_classifier.predict(X_test_vec)\n",
        "nb_precision = precision_score(y_test, nb_predictions, average='macro')\n",
        "nb_recall = recall_score(y_test, nb_predictions, average='macro')\n",
        "print(\"Naive Bayes Accuracy:\", nb_accuracy)\n",
        "print(\"Naive Bayes Precision:\", nb_precision)\n",
        "print(\"Naive Bayes Recall:\", nb_recall)\n",
        "\n",
        "# Train and evaluate Logistic Regression classifier\n",
        "lr_classifier = LogisticRegression(max_iter=1000)\n",
        "lr_classifier.fit(X_train_vec, y_train)\n",
        "lr_scores = cross_val_score(lr_classifier, X_train_vec, y_train, cv=5)\n",
        "lr_accuracy = lr_scores.mean()\n",
        "lr_predictions = lr_classifier.predict(X_test_vec)\n",
        "lr_precision = precision_score(y_test, lr_predictions, average='macro')\n",
        "lr_recall = recall_score(y_test, lr_predictions, average='macro')\n",
        "print(\"Logistic Regression Accuracy:\", lr_accuracy)\n",
        "print(\"Logistic Regression Precision:\", lr_precision)\n",
        "print(\"Logistic Regression Recall:\", lr_recall)\n",
        "\n",
        "# Train and evaluate Random Forest classifier\n",
        "rf_classifier = RandomForestClassifier()\n",
        "rf_classifier.fit(X_train_vec, y_train)\n",
        "rf_scores = cross_val_score(rf_classifier, X_train_vec, y_train, cv=5)\n",
        "rf_accuracy = rf_scores.mean()\n",
        "rf_predictions = rf_classifier.predict(X_test_vec)\n",
        "rf_precision = precision_score(y_test, rf_predictions, average='macro')\n",
        "rf_recall = recall_score(y_test, rf_predictions, average='macro')\n",
        "print(\"Random Forest Accuracy:\", rf_accuracy)\n",
        "print(\"Random Forest Precision:\", rf_precision)\n",
        "print(\"Random Forest Recall:\", rf_recall)\n"
      ]
    }
  ]
}